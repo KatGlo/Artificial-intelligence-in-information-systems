{
 "cells": [
  {
   "cell_type": "code",
   "execution_count": 9,
   "outputs": [
    {
     "name": "stdout",
     "output_type": "stream",
     "text": [
      "Requirement already satisfied: shap in ./venv/lib/python3.12/site-packages (0.45.0)\r\n",
      "Requirement already satisfied: numpy in ./venv/lib/python3.12/site-packages (from shap) (1.26.4)\r\n",
      "Requirement already satisfied: scipy in ./venv/lib/python3.12/site-packages (from shap) (1.13.0)\r\n",
      "Requirement already satisfied: scikit-learn in ./venv/lib/python3.12/site-packages (from shap) (1.4.2)\r\n",
      "Requirement already satisfied: pandas in ./venv/lib/python3.12/site-packages (from shap) (2.2.2)\r\n",
      "Requirement already satisfied: tqdm>=4.27.0 in ./venv/lib/python3.12/site-packages (from shap) (4.66.2)\r\n",
      "Requirement already satisfied: packaging>20.9 in ./venv/lib/python3.12/site-packages (from shap) (24.0)\r\n",
      "Requirement already satisfied: slicer==0.0.7 in ./venv/lib/python3.12/site-packages (from shap) (0.0.7)\r\n",
      "Requirement already satisfied: numba in ./venv/lib/python3.12/site-packages (from shap) (0.59.1)\r\n",
      "Requirement already satisfied: cloudpickle in ./venv/lib/python3.12/site-packages (from shap) (3.0.0)\r\n",
      "Requirement already satisfied: llvmlite<0.43,>=0.42.0dev0 in ./venv/lib/python3.12/site-packages (from numba->shap) (0.42.0)\r\n",
      "Requirement already satisfied: python-dateutil>=2.8.2 in ./venv/lib/python3.12/site-packages (from pandas->shap) (2.9.0.post0)\r\n",
      "Requirement already satisfied: pytz>=2020.1 in ./venv/lib/python3.12/site-packages (from pandas->shap) (2024.1)\r\n",
      "Requirement already satisfied: tzdata>=2022.7 in ./venv/lib/python3.12/site-packages (from pandas->shap) (2024.1)\r\n",
      "Requirement already satisfied: joblib>=1.2.0 in ./venv/lib/python3.12/site-packages (from scikit-learn->shap) (1.4.0)\r\n",
      "Requirement already satisfied: threadpoolctl>=2.0.0 in ./venv/lib/python3.12/site-packages (from scikit-learn->shap) (3.4.0)\r\n",
      "Requirement already satisfied: six>=1.5 in ./venv/lib/python3.12/site-packages (from python-dateutil>=2.8.2->pandas->shap) (1.16.0)\r\n",
      "\r\n",
      "\u001B[1m[\u001B[0m\u001B[34;49mnotice\u001B[0m\u001B[1;39;49m]\u001B[0m\u001B[39;49m A new release of pip is available: \u001B[0m\u001B[31;49m23.2.1\u001B[0m\u001B[39;49m -> \u001B[0m\u001B[32;49m24.0\u001B[0m\r\n",
      "\u001B[1m[\u001B[0m\u001B[34;49mnotice\u001B[0m\u001B[1;39;49m]\u001B[0m\u001B[39;49m To update, run: \u001B[0m\u001B[32;49mpip install --upgrade pip\u001B[0m\r\n"
     ]
    }
   ],
   "source": [
    "!pip install shap"
   ],
   "metadata": {
    "collapsed": false,
    "ExecuteTime": {
     "end_time": "2024-04-18T11:48:01.050211Z",
     "start_time": "2024-04-18T11:47:57.241824Z"
    }
   },
   "id": "9ec52adf4adb437b"
  },
  {
   "cell_type": "code",
   "execution_count": 10,
   "outputs": [],
   "source": [
    "import shap\n",
    "\n",
    "data, labels = shap.datasets.adult()"
   ],
   "metadata": {
    "collapsed": false,
    "ExecuteTime": {
     "end_time": "2024-04-18T11:48:01.208849Z",
     "start_time": "2024-04-18T11:48:01.063493Z"
    }
   },
   "id": "e9841753efb066ea"
  },
  {
   "cell_type": "code",
   "execution_count": 11,
   "outputs": [
    {
     "data": {
      "text/plain": "        Age  Workclass  Education-Num  Marital Status  Occupation  \\\n0      39.0          7           13.0               4           1   \n1      50.0          6           13.0               2           4   \n2      38.0          4            9.0               0           6   \n3      53.0          4            7.0               2           6   \n4      28.0          4           13.0               2          10   \n...     ...        ...            ...             ...         ...   \n32556  27.0          4           12.0               2          13   \n32557  40.0          4            9.0               2           7   \n32558  58.0          4            9.0               6           1   \n32559  22.0          4            9.0               4           1   \n32560  52.0          5            9.0               2           4   \n\n       Relationship  Race  Sex  Capital Gain  Capital Loss  Hours per week  \\\n0                 0     4    1        2174.0           0.0            40.0   \n1                 4     4    1           0.0           0.0            13.0   \n2                 0     4    1           0.0           0.0            40.0   \n3                 4     2    1           0.0           0.0            40.0   \n4                 5     2    0           0.0           0.0            40.0   \n...             ...   ...  ...           ...           ...             ...   \n32556             5     4    0           0.0           0.0            38.0   \n32557             4     4    1           0.0           0.0            40.0   \n32558             1     4    0           0.0           0.0            40.0   \n32559             3     4    1           0.0           0.0            20.0   \n32560             5     4    0       15024.0           0.0            40.0   \n\n       Country  \n0           39  \n1           39  \n2           39  \n3           39  \n4            5  \n...        ...  \n32556       39  \n32557       39  \n32558       39  \n32559       39  \n32560       39  \n\n[32561 rows x 12 columns]",
      "text/html": "<div>\n<style scoped>\n    .dataframe tbody tr th:only-of-type {\n        vertical-align: middle;\n    }\n\n    .dataframe tbody tr th {\n        vertical-align: top;\n    }\n\n    .dataframe thead th {\n        text-align: right;\n    }\n</style>\n<table border=\"1\" class=\"dataframe\">\n  <thead>\n    <tr style=\"text-align: right;\">\n      <th></th>\n      <th>Age</th>\n      <th>Workclass</th>\n      <th>Education-Num</th>\n      <th>Marital Status</th>\n      <th>Occupation</th>\n      <th>Relationship</th>\n      <th>Race</th>\n      <th>Sex</th>\n      <th>Capital Gain</th>\n      <th>Capital Loss</th>\n      <th>Hours per week</th>\n      <th>Country</th>\n    </tr>\n  </thead>\n  <tbody>\n    <tr>\n      <th>0</th>\n      <td>39.0</td>\n      <td>7</td>\n      <td>13.0</td>\n      <td>4</td>\n      <td>1</td>\n      <td>0</td>\n      <td>4</td>\n      <td>1</td>\n      <td>2174.0</td>\n      <td>0.0</td>\n      <td>40.0</td>\n      <td>39</td>\n    </tr>\n    <tr>\n      <th>1</th>\n      <td>50.0</td>\n      <td>6</td>\n      <td>13.0</td>\n      <td>2</td>\n      <td>4</td>\n      <td>4</td>\n      <td>4</td>\n      <td>1</td>\n      <td>0.0</td>\n      <td>0.0</td>\n      <td>13.0</td>\n      <td>39</td>\n    </tr>\n    <tr>\n      <th>2</th>\n      <td>38.0</td>\n      <td>4</td>\n      <td>9.0</td>\n      <td>0</td>\n      <td>6</td>\n      <td>0</td>\n      <td>4</td>\n      <td>1</td>\n      <td>0.0</td>\n      <td>0.0</td>\n      <td>40.0</td>\n      <td>39</td>\n    </tr>\n    <tr>\n      <th>3</th>\n      <td>53.0</td>\n      <td>4</td>\n      <td>7.0</td>\n      <td>2</td>\n      <td>6</td>\n      <td>4</td>\n      <td>2</td>\n      <td>1</td>\n      <td>0.0</td>\n      <td>0.0</td>\n      <td>40.0</td>\n      <td>39</td>\n    </tr>\n    <tr>\n      <th>4</th>\n      <td>28.0</td>\n      <td>4</td>\n      <td>13.0</td>\n      <td>2</td>\n      <td>10</td>\n      <td>5</td>\n      <td>2</td>\n      <td>0</td>\n      <td>0.0</td>\n      <td>0.0</td>\n      <td>40.0</td>\n      <td>5</td>\n    </tr>\n    <tr>\n      <th>...</th>\n      <td>...</td>\n      <td>...</td>\n      <td>...</td>\n      <td>...</td>\n      <td>...</td>\n      <td>...</td>\n      <td>...</td>\n      <td>...</td>\n      <td>...</td>\n      <td>...</td>\n      <td>...</td>\n      <td>...</td>\n    </tr>\n    <tr>\n      <th>32556</th>\n      <td>27.0</td>\n      <td>4</td>\n      <td>12.0</td>\n      <td>2</td>\n      <td>13</td>\n      <td>5</td>\n      <td>4</td>\n      <td>0</td>\n      <td>0.0</td>\n      <td>0.0</td>\n      <td>38.0</td>\n      <td>39</td>\n    </tr>\n    <tr>\n      <th>32557</th>\n      <td>40.0</td>\n      <td>4</td>\n      <td>9.0</td>\n      <td>2</td>\n      <td>7</td>\n      <td>4</td>\n      <td>4</td>\n      <td>1</td>\n      <td>0.0</td>\n      <td>0.0</td>\n      <td>40.0</td>\n      <td>39</td>\n    </tr>\n    <tr>\n      <th>32558</th>\n      <td>58.0</td>\n      <td>4</td>\n      <td>9.0</td>\n      <td>6</td>\n      <td>1</td>\n      <td>1</td>\n      <td>4</td>\n      <td>0</td>\n      <td>0.0</td>\n      <td>0.0</td>\n      <td>40.0</td>\n      <td>39</td>\n    </tr>\n    <tr>\n      <th>32559</th>\n      <td>22.0</td>\n      <td>4</td>\n      <td>9.0</td>\n      <td>4</td>\n      <td>1</td>\n      <td>3</td>\n      <td>4</td>\n      <td>1</td>\n      <td>0.0</td>\n      <td>0.0</td>\n      <td>20.0</td>\n      <td>39</td>\n    </tr>\n    <tr>\n      <th>32560</th>\n      <td>52.0</td>\n      <td>5</td>\n      <td>9.0</td>\n      <td>2</td>\n      <td>4</td>\n      <td>5</td>\n      <td>4</td>\n      <td>0</td>\n      <td>15024.0</td>\n      <td>0.0</td>\n      <td>40.0</td>\n      <td>39</td>\n    </tr>\n  </tbody>\n</table>\n<p>32561 rows × 12 columns</p>\n</div>"
     },
     "execution_count": 11,
     "metadata": {},
     "output_type": "execute_result"
    }
   ],
   "source": [
    "data"
   ],
   "metadata": {
    "collapsed": false,
    "ExecuteTime": {
     "end_time": "2024-04-18T11:48:01.241505Z",
     "start_time": "2024-04-18T11:48:01.230912Z"
    }
   },
   "id": "c648d803f8e183eb"
  },
  {
   "cell_type": "code",
   "execution_count": 12,
   "outputs": [
    {
     "data": {
      "text/plain": "(32561,)"
     },
     "execution_count": 12,
     "metadata": {},
     "output_type": "execute_result"
    }
   ],
   "source": [
    "labels.shape"
   ],
   "metadata": {
    "collapsed": false,
    "ExecuteTime": {
     "end_time": "2024-04-18T11:48:01.245072Z",
     "start_time": "2024-04-18T11:48:01.236931Z"
    }
   },
   "id": "23e4d4f548a3c1c7"
  },
  {
   "cell_type": "code",
   "execution_count": 13,
   "outputs": [
    {
     "name": "stdout",
     "output_type": "stream",
     "text": [
      "Requirement already satisfied: lightgbm in ./venv/lib/python3.12/site-packages (4.3.0)\r\n",
      "Requirement already satisfied: numpy in ./venv/lib/python3.12/site-packages (from lightgbm) (1.26.4)\r\n",
      "Requirement already satisfied: scipy in ./venv/lib/python3.12/site-packages (from lightgbm) (1.13.0)\r\n",
      "\r\n",
      "\u001B[1m[\u001B[0m\u001B[34;49mnotice\u001B[0m\u001B[1;39;49m]\u001B[0m\u001B[39;49m A new release of pip is available: \u001B[0m\u001B[31;49m23.2.1\u001B[0m\u001B[39;49m -> \u001B[0m\u001B[32;49m24.0\u001B[0m\r\n",
      "\u001B[1m[\u001B[0m\u001B[34;49mnotice\u001B[0m\u001B[1;39;49m]\u001B[0m\u001B[39;49m To update, run: \u001B[0m\u001B[32;49mpip install --upgrade pip\u001B[0m\r\n",
      "Note: you may need to restart the kernel to use updated packages.\n"
     ]
    }
   ],
   "source": [
    "pip install lightgbm "
   ],
   "metadata": {
    "collapsed": false,
    "ExecuteTime": {
     "end_time": "2024-04-18T11:48:04.114250Z",
     "start_time": "2024-04-18T11:48:01.251620Z"
    }
   },
   "id": "a210c4c1882c320e"
  },
  {
   "cell_type": "code",
   "execution_count": 14,
   "outputs": [
    {
     "name": "stdout",
     "output_type": "stream",
     "text": [
      "[LightGBM] [Warning] Found whitespace in feature_names, replace with underlines\n",
      "[LightGBM] [Info] Number of positive: 7841, number of negative: 24720\n",
      "[LightGBM] [Info] Auto-choosing row-wise multi-threading, the overhead of testing was 0.001855 seconds.\n",
      "You can set `force_row_wise=true` to remove the overhead.\n",
      "And if memory is not enough, you can set `force_col_wise=true`.\n",
      "[LightGBM] [Info] Total Bins 431\n",
      "[LightGBM] [Info] Number of data points in the train set: 32561, number of used features: 12\n",
      "[LightGBM] [Info] [binary:BoostFromScore]: pavg=0.240810 -> initscore=-1.148246\n",
      "[LightGBM] [Info] Start training from score -1.148246\n"
     ]
    }
   ],
   "source": [
    "import lightgbm as lgbm\n",
    "\n",
    "params = {\n",
    "    'objective':'binary',\n",
    "    'boosting_type':'gbdt',\n",
    "    'max_depth':6,\n",
    "    'learning_rate':0.05,\n",
    "    'metric':'auc',\n",
    "    'num_leaves':32 \n",
    "\n",
    "}\n",
    "\n",
    "dtrain = lgbm.Dataset(data,labels)\n",
    "\n",
    "model =  lgbm.train(params, dtrain, num_boost_round=100, valid_sets=[dtrain])"
   ],
   "metadata": {
    "collapsed": false,
    "ExecuteTime": {
     "end_time": "2024-04-18T11:48:04.615081Z",
     "start_time": "2024-04-18T11:48:04.105660Z"
    }
   },
   "id": "70d4ee766ad97d6a"
  },
  {
   "cell_type": "code",
   "execution_count": 15,
   "outputs": [
    {
     "data": {
      "text/plain": "<lightgbm.basic.Booster at 0x1317b1640>"
     },
     "execution_count": 15,
     "metadata": {},
     "output_type": "execute_result"
    }
   ],
   "source": [
    "model.save_model(\"lighgbm_model.txt\")"
   ],
   "metadata": {
    "collapsed": false,
    "ExecuteTime": {
     "end_time": "2024-04-18T11:48:04.639043Z",
     "start_time": "2024-04-18T11:48:04.618275Z"
    }
   },
   "id": "8637f8f8427b3552"
  }
 ],
 "metadata": {
  "kernelspec": {
   "display_name": "Python 3",
   "language": "python",
   "name": "python3"
  },
  "language_info": {
   "codemirror_mode": {
    "name": "ipython",
    "version": 2
   },
   "file_extension": ".py",
   "mimetype": "text/x-python",
   "name": "python",
   "nbconvert_exporter": "python",
   "pygments_lexer": "ipython2",
   "version": "2.7.6"
  }
 },
 "nbformat": 4,
 "nbformat_minor": 5
}
