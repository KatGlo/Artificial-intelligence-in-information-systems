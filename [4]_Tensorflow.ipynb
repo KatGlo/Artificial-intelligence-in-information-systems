{
  "nbformat": 4,
  "nbformat_minor": 0,
  "metadata": {
    "accelerator": "GPU",
    "colab": {
      "provenance": []
    },
    "kernelspec": {
      "name": "python3",
      "language": "python",
      "display_name": "Python 3 (ipykernel)"
    }
  },
  "cells": [
    {
      "cell_type": "markdown",
      "metadata": {
        "id": "860PFaEBIk3H"
      },
      "source": [
        "# LAB4 - TensorFlow Lite\n",
        "ver: 3"
      ]
    },
    {
      "cell_type": "markdown",
      "metadata": {
        "id": "sSP0m_ZGIi5I"
      },
      "source": [
        "Przedmiot: _Sztuczna Inteligencja w Systemach Informatycznych_\n",
        "\n",
        "Autor: Tomasz Szydło\n",
        "\n",
        "kontakt: tszydlo@agh.edu.pl\n"
      ]
    },
    {
      "cell_type": "markdown",
      "metadata": {
        "id": "pNIkZMJIIceS"
      },
      "source": [
        "## Wprowadzenie\n",
        "\n",
        "Celem zajęć jest analiza działania konwersji sieci neuronowych do postaci możliwej do uruchomienia na urządzeniach o ograniczonych zasobach. W czasie zajęć będzie wykorzystywany zbiór Fashion MNIST, który zawiera 60000 obrazków w 10 kategoriach:\n",
        "\n",
        "https://github.com/zalandoresearch/fashion-mnist\n",
        "\n",
        "\n",
        "https://www.tensorflow.org/datasets/catalog/fashion_mnist\n",
        "\n",
        "\n",
        "### Środowisko pracy - Google Codelab\n",
        "\n",
        "https://codelabs.developers.google.com/?cat=Machine+Learning\n",
        "\n"
      ]
    },
    {
      "cell_type": "code",
      "metadata": {
        "id": "pffqMCSFKRq6",
        "ExecuteTime": {
          "end_time": "2024-03-28T22:10:46.767658Z",
          "start_time": "2024-03-28T22:10:46.622889Z"
        },
        "colab": {
          "base_uri": "https://localhost:8080/"
        },
        "outputId": "6639ffe5-5791-4558-96f3-7df557f51de3"
      },
      "source": [
        "try:\n",
        "  %tensorflow_version 2.x\n",
        "except:\n",
        "  pass"
      ],
      "execution_count": 1,
      "outputs": [
        {
          "output_type": "stream",
          "name": "stdout",
          "text": [
            "Colab only includes TensorFlow 2.x; %tensorflow_version has no effect.\n"
          ]
        }
      ]
    },
    {
      "cell_type": "code",
      "metadata": {
        "id": "hOEVEJ4eKU85",
        "ExecuteTime": {
          "end_time": "2024-03-28T22:10:55.870557Z",
          "start_time": "2024-03-28T22:10:46.628812Z"
        },
        "colab": {
          "base_uri": "https://localhost:8080/"
        },
        "outputId": "52876b4a-e215-4662-deff-36d8f37ec603"
      },
      "source": [
        "import tensorflow as tf\n",
        "from keras.datasets import mnist, fashion_mnist\n",
        "from keras.models import Sequential\n",
        "from keras.layers import Dense, Dropout, Activation, Flatten, Conv2D, AveragePooling2D, MaxPooling2D\n",
        "\n",
        "from keras.utils import to_categorical\n",
        "\n",
        "import numpy as np\n",
        "import matplotlib.pyplot as plt\n",
        "import pathlib\n",
        "\n",
        "import time\n",
        "\n",
        "print(tf.__version__)"
      ],
      "execution_count": 2,
      "outputs": [
        {
          "output_type": "stream",
          "name": "stdout",
          "text": [
            "2.15.0\n"
          ]
        }
      ]
    },
    {
      "cell_type": "markdown",
      "metadata": {
        "id": "1fCavbBCMtQ9"
      },
      "source": [
        "Przygotuj zbiór testowy. Zbiór fashion_mnist nie posiada słownych opisów klas."
      ]
    },
    {
      "cell_type": "code",
      "metadata": {
        "id": "SDtjTnnKai7G",
        "ExecuteTime": {
          "end_time": "2024-03-28T22:10:56.095815Z",
          "start_time": "2024-03-28T22:10:55.867291Z"
        },
        "colab": {
          "base_uri": "https://localhost:8080/"
        },
        "outputId": "fd12faa1-02f0-4e83-ef02-0bd679680485"
      },
      "source": [
        "nb_classes = 10\n",
        "class_names = ['T-shirt_top', 'Trouser', 'Pullover', 'Dress', 'Coat',\n",
        "               'Sandal', 'Shirt', 'Sneaker', 'Bag', 'Ankle boot']\n",
        "\n",
        "#(X_train, y_train), (X_test, y_test) = mnist.load_data()\n",
        "(X_train, y_train), (X_test, y_test) = fashion_mnist.load_data()\n",
        "print(\"X_train original shape\", X_train.shape)\n",
        "print(\"y_train original shape\", y_train.shape)"
      ],
      "execution_count": 3,
      "outputs": [
        {
          "output_type": "stream",
          "name": "stdout",
          "text": [
            "Downloading data from https://storage.googleapis.com/tensorflow/tf-keras-datasets/train-labels-idx1-ubyte.gz\n",
            "29515/29515 [==============================] - 0s 0us/step\n",
            "Downloading data from https://storage.googleapis.com/tensorflow/tf-keras-datasets/train-images-idx3-ubyte.gz\n",
            "26421880/26421880 [==============================] - 2s 0us/step\n",
            "Downloading data from https://storage.googleapis.com/tensorflow/tf-keras-datasets/t10k-labels-idx1-ubyte.gz\n",
            "5148/5148 [==============================] - 0s 0us/step\n",
            "Downloading data from https://storage.googleapis.com/tensorflow/tf-keras-datasets/t10k-images-idx3-ubyte.gz\n",
            "4422102/4422102 [==============================] - 1s 0us/step\n",
            "X_train original shape (60000, 28, 28)\n",
            "y_train original shape (60000,)\n"
          ]
        }
      ]
    },
    {
      "cell_type": "markdown",
      "metadata": {
        "id": "gJDe17SdCn6R"
      },
      "source": [
        "Wypisz ilość elementów w zbiorze uczącym i testowym.\n",
        "\n",
        "\n",
        "\n"
      ]
    },
    {
      "cell_type": "code",
      "metadata": {
        "id": "eAcGemlGbuUG",
        "ExecuteTime": {
          "end_time": "2024-03-28T22:10:56.126243Z",
          "start_time": "2024-03-28T22:10:56.092301Z"
        },
        "colab": {
          "base_uri": "https://localhost:8080/"
        },
        "outputId": "f09fa90b-c744-49ed-d9d3-37e48098e756"
      },
      "source": [
        "print(X_test)\n",
        "print(X_train)\n",
        "\n",
        "print(len(list(X_test)))\n",
        "print(len(list(X_train)))"
      ],
      "execution_count": 4,
      "outputs": [
        {
          "output_type": "stream",
          "name": "stdout",
          "text": [
            "[[[0 0 0 ... 0 0 0]\n",
            "  [0 0 0 ... 0 0 0]\n",
            "  [0 0 0 ... 0 0 0]\n",
            "  ...\n",
            "  [0 0 0 ... 0 0 0]\n",
            "  [0 0 0 ... 0 0 0]\n",
            "  [0 0 0 ... 0 0 0]]\n",
            "\n",
            " [[0 0 0 ... 0 0 0]\n",
            "  [0 0 0 ... 0 0 0]\n",
            "  [0 0 0 ... 0 0 0]\n",
            "  ...\n",
            "  [0 0 0 ... 0 0 0]\n",
            "  [0 0 0 ... 0 0 0]\n",
            "  [0 0 0 ... 0 0 0]]\n",
            "\n",
            " [[0 0 0 ... 0 0 0]\n",
            "  [0 0 0 ... 0 0 0]\n",
            "  [0 0 0 ... 0 0 0]\n",
            "  ...\n",
            "  [0 0 0 ... 0 0 0]\n",
            "  [0 0 0 ... 0 0 0]\n",
            "  [0 0 0 ... 0 0 0]]\n",
            "\n",
            " ...\n",
            "\n",
            " [[0 0 0 ... 0 0 0]\n",
            "  [0 0 0 ... 0 0 0]\n",
            "  [0 0 0 ... 0 0 0]\n",
            "  ...\n",
            "  [0 0 0 ... 0 0 0]\n",
            "  [0 0 0 ... 0 0 0]\n",
            "  [0 0 0 ... 0 0 0]]\n",
            "\n",
            " [[0 0 0 ... 0 0 0]\n",
            "  [0 0 0 ... 0 0 0]\n",
            "  [0 0 0 ... 0 0 0]\n",
            "  ...\n",
            "  [0 0 0 ... 0 0 0]\n",
            "  [0 0 0 ... 0 0 0]\n",
            "  [0 0 0 ... 0 0 0]]\n",
            "\n",
            " [[0 0 0 ... 0 0 0]\n",
            "  [0 0 0 ... 0 0 0]\n",
            "  [0 0 0 ... 0 0 0]\n",
            "  ...\n",
            "  [0 0 0 ... 0 0 0]\n",
            "  [0 0 0 ... 0 0 0]\n",
            "  [0 0 0 ... 0 0 0]]]\n",
            "[[[0 0 0 ... 0 0 0]\n",
            "  [0 0 0 ... 0 0 0]\n",
            "  [0 0 0 ... 0 0 0]\n",
            "  ...\n",
            "  [0 0 0 ... 0 0 0]\n",
            "  [0 0 0 ... 0 0 0]\n",
            "  [0 0 0 ... 0 0 0]]\n",
            "\n",
            " [[0 0 0 ... 0 0 0]\n",
            "  [0 0 0 ... 0 0 0]\n",
            "  [0 0 0 ... 0 0 0]\n",
            "  ...\n",
            "  [0 0 0 ... 0 0 0]\n",
            "  [0 0 0 ... 0 0 0]\n",
            "  [0 0 0 ... 0 0 0]]\n",
            "\n",
            " [[0 0 0 ... 0 0 0]\n",
            "  [0 0 0 ... 0 0 0]\n",
            "  [0 0 0 ... 0 0 0]\n",
            "  ...\n",
            "  [0 0 0 ... 0 0 0]\n",
            "  [0 0 0 ... 0 0 0]\n",
            "  [0 0 0 ... 0 0 0]]\n",
            "\n",
            " ...\n",
            "\n",
            " [[0 0 0 ... 0 0 0]\n",
            "  [0 0 0 ... 0 0 0]\n",
            "  [0 0 0 ... 0 0 0]\n",
            "  ...\n",
            "  [0 0 0 ... 0 0 0]\n",
            "  [0 0 0 ... 0 0 0]\n",
            "  [0 0 0 ... 0 0 0]]\n",
            "\n",
            " [[0 0 0 ... 0 0 0]\n",
            "  [0 0 0 ... 0 0 0]\n",
            "  [0 0 0 ... 0 0 0]\n",
            "  ...\n",
            "  [0 0 0 ... 0 0 0]\n",
            "  [0 0 0 ... 0 0 0]\n",
            "  [0 0 0 ... 0 0 0]]\n",
            "\n",
            " [[0 0 0 ... 0 0 0]\n",
            "  [0 0 0 ... 0 0 0]\n",
            "  [0 0 0 ... 0 0 0]\n",
            "  ...\n",
            "  [0 0 0 ... 0 0 0]\n",
            "  [0 0 0 ... 0 0 0]\n",
            "  [0 0 0 ... 0 0 0]]]\n",
            "10000\n",
            "60000\n"
          ]
        }
      ]
    },
    {
      "cell_type": "markdown",
      "metadata": {
        "id": "ZnhPDvc8DCcr"
      },
      "source": [
        "**TODO** Zmień poniższy kod tak by wyświetlić 10 przykładowych obrazków - po jednym z każdej klasy."
      ]
    },
    {
      "cell_type": "code",
      "metadata": {
        "colab": {
          "base_uri": "https://localhost:8080/",
          "height": 370
        },
        "id": "G6DBqmkEcKKL",
        "outputId": "2039c011-654e-450f-f045-cb644c52a53a",
        "ExecuteTime": {
          "end_time": "2024-03-28T22:10:57.059671Z",
          "start_time": "2024-03-28T22:10:56.116236Z"
        }
      },
      "source": [
        "labels, j = [], 1\n",
        "for i in range(20):\n",
        "    plt.subplot(2,5,j)\n",
        "    if class_names[y_test[i]] not in labels:\n",
        "      plt.imshow(X_test[i], cmap='gray', interpolation='none')\n",
        "      labels.append(class_names[y_test[i]])\n",
        "      j += 1\n",
        "    plt.title(\"{}\".format(class_names[y_test[i]]))"
      ],
      "execution_count": 5,
      "outputs": [
        {
          "output_type": "display_data",
          "data": {
            "text/plain": [
              "<Figure size 640x480 with 10 Axes>"
            ],
            "image/png": "[encoded data removed]"
          },
          "metadata": {}
        }
      ]
    },
    {
      "cell_type": "markdown",
      "metadata": {
        "id": "VMjUbt92c1hL"
      },
      "source": [
        "Sieć neuronowa przyjmuje na wejściu obrazek z jednym kanałem - poziomem jasności, więc konieczne jest przekształcenie danych wejściowych, aby każdy obraz 28 x 28 stał się macierzą 28 x 28 x 1.\n",
        "\n",
        "Skalujemy również dane wejściowe w zakresie [0–1] zamiast [0–255]"
      ]
    },
    {
      "cell_type": "code",
      "metadata": {
        "id": "eBEvZU9gdFfU",
        "ExecuteTime": {
          "end_time": "2024-03-28T22:10:57.256292Z",
          "start_time": "2024-03-28T22:10:57.061948Z"
        },
        "colab": {
          "base_uri": "https://localhost:8080/"
        },
        "outputId": "39d3b182-3c4d-40ca-d944-a50a62908952"
      },
      "source": [
        "X_train = X_train.reshape(60000, 28,28,1)\n",
        "X_test = X_test.reshape(10000, 28,28,1)\n",
        "X_train = X_train.astype('float32')\n",
        "X_test = X_test.astype('float32')\n",
        "X_train /= 255\n",
        "X_test /= 255\n",
        "print(\"Training matrix shape\", X_train.shape)\n",
        "print(\"Testing matrix shape\", X_test.shape)\n",
        "\n",
        "print(nb_classes)"
      ],
      "execution_count": 6,
      "outputs": [
        {
          "output_type": "stream",
          "name": "stdout",
          "text": [
            "Training matrix shape (60000, 28, 28, 1)\n",
            "Testing matrix shape (10000, 28, 28, 1)\n",
            "10\n"
          ]
        }
      ]
    },
    {
      "cell_type": "markdown",
      "metadata": {
        "id": "-tJKBV4LdMm7"
      },
      "source": [
        "Zmodyfikuj macierze wyjść korzystając z techniki One Hot Encoding, tj.\n",
        "\n",
        "```\n",
        "0 -> [1, 0, 0, 0, 0, 0, 0, 0, 0]\n",
        "1 -> [0, 1, 0, 0, 0, 0, 0, 0, 0]\n",
        "2 -> [0, 0, 1, 0, 0, 0, 0, 0, 0]\n",
        "```\n",
        "itp."
      ]
    },
    {
      "cell_type": "code",
      "metadata": {
        "id": "YeyLgauzdLUC",
        "ExecuteTime": {
          "end_time": "2024-03-28T22:10:57.257585Z",
          "start_time": "2024-03-28T22:10:57.251841Z"
        }
      },
      "source": [
        "Y_train = to_categorical(y_train)\n",
        "Y_test = to_categorical(y_test)"
      ],
      "execution_count": 7,
      "outputs": []
    },
    {
      "cell_type": "markdown",
      "metadata": {
        "id": "0MBVlQSBDhd3"
      },
      "source": [
        "Wielowarstwowa sieć konwolucyjna do klasyfikacji ubrań."
      ]
    },
    {
      "cell_type": "code",
      "metadata": {
        "id": "JenWFnRJPyI6",
        "ExecuteTime": {
          "end_time": "2024-03-28T22:10:57.398673Z",
          "start_time": "2024-03-28T22:10:57.257970Z"
        }
      },
      "source": [
        "model = Sequential([\n",
        "  Conv2D(16, 3, activation='relu', input_shape=(28, 28, 1)),\n",
        "  MaxPooling2D(),\n",
        "  Conv2D(32, 3, activation='relu'),\n",
        "  Flatten(),\n",
        "  Dense(64, activation='relu'),\n",
        "  Dense(10, activation='softmax')\n",
        "])\n",
        "\n",
        "model.compile(optimizer='adam', loss='categorical_crossentropy', metrics=['accuracy'])"
      ],
      "execution_count": 8,
      "outputs": []
    },
    {
      "cell_type": "code",
      "metadata": {
        "id": "iSxRrxYK6pUU",
        "ExecuteTime": {
          "end_time": "2024-03-28T22:10:57.415900Z",
          "start_time": "2024-03-28T22:10:57.395785Z"
        },
        "colab": {
          "base_uri": "https://localhost:8080/"
        },
        "outputId": "c4dbd72f-b4d1-4178-fde4-f0946f45638a"
      },
      "source": [
        "model.summary()"
      ],
      "execution_count": 9,
      "outputs": [
        {
          "output_type": "stream",
          "name": "stdout",
          "text": [
            "Model: \"sequential\"\n",
            "_________________________________________________________________\n",
            " Layer (type)                Output Shape              Param #   \n",
            "=================================================================\n",
            " conv2d (Conv2D)             (None, 26, 26, 16)        160       \n",
            "                                                                 \n",
            " max_pooling2d (MaxPooling2  (None, 13, 13, 16)        0         \n",
            " D)                                                              \n",
            "                                                                 \n",
            " conv2d_1 (Conv2D)           (None, 11, 11, 32)        4640      \n",
            "                                                                 \n",
            " flatten (Flatten)           (None, 3872)              0         \n",
            "                                                                 \n",
            " dense (Dense)               (None, 64)                247872    \n",
            "                                                                 \n",
            " dense_1 (Dense)             (None, 10)                650       \n",
            "                                                                 \n",
            "=================================================================\n",
            "Total params: 253322 (989.54 KB)\n",
            "Trainable params: 253322 (989.54 KB)\n",
            "Non-trainable params: 0 (0.00 Byte)\n",
            "_________________________________________________________________\n"
          ]
        }
      ]
    },
    {
      "cell_type": "markdown",
      "metadata": {
        "id": "7CKJgoMcDrFv"
      },
      "source": [
        "W celu skrócenia czasu uczenia sieci wskazane jest użycie GPU."
      ]
    },
    {
      "cell_type": "code",
      "metadata": {
        "id": "Xo3UTs-Hd8L0",
        "ExecuteTime": {
          "end_time": "2024-03-28T22:13:56.270062Z",
          "start_time": "2024-03-28T22:10:57.412595Z"
        },
        "colab": {
          "base_uri": "https://localhost:8080/"
        },
        "outputId": "8d9c9e1e-bf06-4cb2-fa3f-8cd12f16e8d1"
      },
      "source": [
        "model.fit(X_train, Y_train,\n",
        "          batch_size=32, epochs=10,\n",
        "          verbose=1,\n",
        "          validation_data=(X_test, Y_test))"
      ],
      "execution_count": 10,
      "outputs": [
        {
          "output_type": "stream",
          "name": "stdout",
          "text": [
            "Epoch 1/10\n",
            "1875/1875 [==============================] - 12s 4ms/step - loss: 0.4437 - accuracy: 0.8389 - val_loss: 0.3578 - val_accuracy: 0.8634\n",
            "Epoch 2/10\n",
            "1875/1875 [==============================] - 7s 4ms/step - loss: 0.2921 - accuracy: 0.8935 - val_loss: 0.2898 - val_accuracy: 0.8955\n",
            "Epoch 3/10\n",
            "1875/1875 [==============================] - 7s 4ms/step - loss: 0.2460 - accuracy: 0.9111 - val_loss: 0.2652 - val_accuracy: 0.9025\n",
            "Epoch 4/10\n",
            "1875/1875 [==============================] - 7s 4ms/step - loss: 0.2108 - accuracy: 0.9219 - val_loss: 0.2441 - val_accuracy: 0.9129\n",
            "Epoch 5/10\n",
            "1875/1875 [==============================] - 9s 5ms/step - loss: 0.1827 - accuracy: 0.9314 - val_loss: 0.2520 - val_accuracy: 0.9104\n",
            "Epoch 6/10\n",
            "1875/1875 [==============================] - 8s 4ms/step - loss: 0.1624 - accuracy: 0.9406 - val_loss: 0.2450 - val_accuracy: 0.9137\n",
            "Epoch 7/10\n",
            "1875/1875 [==============================] - 7s 4ms/step - loss: 0.1412 - accuracy: 0.9486 - val_loss: 0.2603 - val_accuracy: 0.9145\n",
            "Epoch 8/10\n",
            "1875/1875 [==============================] - 7s 4ms/step - loss: 0.1235 - accuracy: 0.9539 - val_loss: 0.2704 - val_accuracy: 0.9148\n",
            "Epoch 9/10\n",
            "1875/1875 [==============================] - 7s 4ms/step - loss: 0.1065 - accuracy: 0.9610 - val_loss: 0.2717 - val_accuracy: 0.9140\n",
            "Epoch 10/10\n",
            "1875/1875 [==============================] - 7s 4ms/step - loss: 0.0941 - accuracy: 0.9650 - val_loss: 0.2776 - val_accuracy: 0.9172\n"
          ]
        },
        {
          "output_type": "execute_result",
          "data": {
            "text/plain": [
              "<keras.src.callbacks.History at 0x7c8bb0388c40>"
            ]
          },
          "metadata": {},
          "execution_count": 10
        }
      ]
    },
    {
      "cell_type": "markdown",
      "metadata": {
        "id": "VUF-tZzKG_5r"
      },
      "source": [
        "# Zapisywanie NN\n",
        "\n",
        "Szczegółowe informacje dotyczące zapisywania modeli TensorFlow dostępne pod linkiem:\n",
        "\n",
        "https://www.tensorflow.org/tutorials/keras/save_and_load"
      ]
    },
    {
      "cell_type": "code",
      "metadata": {
        "id": "_XXAwJIjR-eF",
        "ExecuteTime": {
          "end_time": "2024-03-28T22:14:35.840312Z",
          "start_time": "2024-03-28T22:14:35.747715Z"
        }
      },
      "source": [
        "export_dir = 'saved_model'\n",
        "model.save(export_dir)"
      ],
      "execution_count": 11,
      "outputs": []
    },
    {
      "cell_type": "markdown",
      "metadata": {
        "id": "2Qc03BzFZkOL"
      },
      "source": [
        "Po zapisaniu modelu należy kliknąć \"Refresh\" po lewej stronie w zakładce \"Files\". W katalogu \"saved_model\" znajduje się zapisany model."
      ]
    },
    {
      "cell_type": "markdown",
      "metadata": {
        "id": "2ikJea6vRj4o"
      },
      "source": [
        "# Export do TFLite\n",
        "\n",
        "Narzędzie `TFLiteConverter` zostanie wykorzystane do konwersji modelu NN do formatu akceptowanego przez TFLite tzn. `flat protocol buffers`.\n",
        "\n",
        "https://www.tensorflow.org/lite/guide/get_started#2_convert_the_model_format\n",
        "\n",
        "Wygenerowany model `\"model-base.tflite\"` operuje na wagach typu `float32`."
      ]
    },
    {
      "cell_type": "code",
      "metadata": {
        "id": "IWcRPnrS5NxX",
        "ExecuteTime": {
          "end_time": "2024-03-28T22:20:04.823362Z",
          "start_time": "2024-03-28T22:20:04.673377Z"
        }
      },
      "source": [
        "converter = tf.lite.TFLiteConverter.from_saved_model(export_dir)\n",
        "tflite_model = converter.convert()\n",
        "\n",
        "with open(\"model-base.tflite\", \"wb\") as f:\n",
        "    f.write(tflite_model)"
      ],
      "execution_count": 12,
      "outputs": []
    },
    {
      "cell_type": "markdown",
      "metadata": {
        "id": "yxUdslmYapId"
      },
      "source": [
        "Po zapisaniu modelu należy kliknąć \"Refresh\" po lewej stronie w zakładce \"Files\"."
      ]
    },
    {
      "cell_type": "markdown",
      "metadata": {
        "id": "RAw9StfeGxB3"
      },
      "source": [
        "Kolejnym krokiem jest kwantyzacja wag modelu z 32 bitowych liczb rzeczywistych do liczb 8 bitowych. Proces kwantyzacji jest uruchamiany na gotowym, wyuczonym modelu. Należy wybrać profil optymaliacji `tf.lite.Optimize.DEFAULT`.\n",
        "\n"
      ]
    },
    {
      "cell_type": "code",
      "metadata": {
        "id": "cimp2vhU51dZ",
        "ExecuteTime": {
          "start_time": "2024-03-28T22:13:56.724389Z"
        }
      },
      "source": [
        "  converter = tf.lite.TFLiteConverter.from_saved_model(export_dir)\n",
        "\n",
        "  #TODO ustaw odpowiedni rodzaj optymalizacji sieci neuronowej\n",
        "\n",
        "  converter.optimizations = [tf.lite.Optimize.DEFAULT]\n",
        "\n",
        "  tflite_model = converter.convert()\n",
        "\n",
        "  with open(\"model-quant.tflite\", \"wb\") as f:\n",
        "    f.write(tflite_model)\n"
      ],
      "execution_count": 13,
      "outputs": []
    },
    {
      "cell_type": "markdown",
      "metadata": {
        "id": "Qr9DQgrKHi_B"
      },
      "source": [
        "Po zapisaniu modelu należy kliknąć \"Refresh\" po lewej stronie w zakładce \"Files\"."
      ]
    },
    {
      "cell_type": "code",
      "metadata": {
        "id": "ZUcelAwJ5NU7",
        "ExecuteTime": {
          "start_time": "2024-03-28T22:13:56.728165Z"
        }
      },
      "source": [
        "# funkcja testujaca model z wykorzystaniem interpretera TFLite\n",
        "# TODO zmodyfikuj funkcje tak by zwracala (accuracy, latency)\n",
        "\n",
        "import time\n",
        "from statistics import mean\n",
        "\n",
        "def test_model_accuracy(tflite_model):\n",
        "  # Load TFLite model and allocate tensors.\n",
        "\n",
        "  interpreter = tf.lite.Interpreter(model_path=tflite_model)\n",
        "  interpreter.allocate_tensors()\n",
        "\n",
        "  input_index = interpreter.get_input_details()[0][\"index\"]\n",
        "  output_index = interpreter.get_output_details()[0][\"index\"]\n",
        "  accuracy, all = 0, 0\n",
        "  time_list = []\n",
        "\n",
        "  for img, label in zip(X_test, y_test):\n",
        "    all += 1\n",
        "    interpreter.set_tensor(input_index, [img])\n",
        "\n",
        "    start_time = time.time()\n",
        "    interpreter.invoke()\n",
        "    end_time = time.time()\n",
        "    time_list.append(end_time - start_time)\n",
        "\n",
        "    prediction = interpreter.get_tensor(output_index)\n",
        "    label_is = np.argmax(prediction, axis=-1)[0]\n",
        "    label_should_be = label\n",
        "    if label_is == label_should_be:\n",
        "      accuracy += 1\n",
        "    #print(\"Label is {} should be {}.\".format(label_is, label_should_be))\n",
        "\n",
        "  accuracy /= all\n",
        "  latency = mean(time_list) * 1000\n",
        "  return (accuracy, latency)\n"
      ],
      "execution_count": 14,
      "outputs": []
    },
    {
      "cell_type": "code",
      "metadata": {
        "id": "_tHC8pGhT0_N",
        "ExecuteTime": {
          "start_time": "2024-03-28T22:13:56.732345Z"
        },
        "colab": {
          "base_uri": "https://localhost:8080/"
        },
        "outputId": "aabc3acc-010b-41f6-8e21-58eb8d22fd26"
      },
      "source": [
        "#TODO tylko na potrzeby testowania - do usuniecia\n",
        "print(test_model_accuracy(\"model-base.tflite\"))\n",
        "\n",
        "#TODO tylko na potrzeby testowania - do usuniecia\n",
        "print(test_model_accuracy(\"model-quant.tflite\"))\n"
      ],
      "execution_count": 15,
      "outputs": [
        {
          "output_type": "stream",
          "name": "stdout",
          "text": [
            "(0.9172, 0.05987904071807861)\n",
            "(0.9173, 0.07861785888671875)\n"
          ]
        }
      ]
    },
    {
      "cell_type": "code",
      "metadata": {
        "id": "9SshGHd36A9a",
        "ExecuteTime": {
          "end_time": "2024-03-28T22:13:56.737993Z",
          "start_time": "2024-03-28T22:13:56.736049Z"
        },
        "colab": {
          "base_uri": "https://localhost:8080/",
          "height": 447
        },
        "outputId": "a134a531-fee6-4377-fe41-9363945ce2f0"
      },
      "source": [
        "# porównaj dokladnosc wynikowych modeli TFLite\n",
        "# TODO wyniki przedstaw na wykresie słupkowym (jeden slupek dla model-base, a drugi dla model-quant)\n",
        "plt.bar(['model-base', 'model-quant'], (test_model_accuracy(\"model-base.tflite\")[0], test_model_accuracy(\"model-quant.tflite\")[0]))"
      ],
      "execution_count": 17,
      "outputs": [
        {
          "output_type": "execute_result",
          "data": {
            "text/plain": [
              "<BarContainer object of 2 artists>"
            ]
          },
          "metadata": {},
          "execution_count": 17
        },
        {
          "output_type": "display_data",
          "data": {
            "text/plain": [
              "<Figure size 640x480 with 1 Axes>"
            ],
            "image/png": "[encoded data removed]"
          },
          "metadata": {}
        }
      ]
    },
    {
      "cell_type": "code",
      "metadata": {
        "id": "sZ9FYFBnIBaY",
        "ExecuteTime": {
          "start_time": "2024-03-28T22:13:56.739799Z"
        },
        "colab": {
          "base_uri": "https://localhost:8080/",
          "height": 462
        },
        "outputId": "023b47ca-765b-43a3-8f06-4be42b9e1adf"
      },
      "source": [
        "# porównaj rozmiar wynikowych modeli TFLite\n",
        "# TODO wyniki przedstaw na wykresie słupkowym (jeden slupek dla model-base, a drugi dla model-quant)\n",
        "sizes = [pathlib.Path('model-base.tflite').stat().st_size, pathlib.Path('model-quant.tflite').stat()\n",
        "    .st_size]\n",
        "plt.bar(['model-base', 'model-quant'], sizes)"
      ],
      "execution_count": 19,
      "outputs": [
        {
          "output_type": "execute_result",
          "data": {
            "text/plain": [
              "<BarContainer object of 2 artists>"
            ]
          },
          "metadata": {},
          "execution_count": 19
        },
        {
          "output_type": "display_data",
          "data": {
            "text/plain": [
              "<Figure size 640x480 with 1 Axes>"
            ],
            "image/png": "[encoded data removed]"
          },
          "metadata": {}
        }
      ]
    },
    {
      "cell_type": "code",
      "metadata": {
        "id": "ymoU1RNc6D5m",
        "ExecuteTime": {
          "end_time": "2024-03-28T22:13:56.776107Z",
          "start_time": "2024-03-28T22:13:56.743727Z"
        },
        "colab": {
          "base_uri": "https://localhost:8080/",
          "height": 447
        },
        "outputId": "8aa49530-2a56-4159-8b99-11020a0af13d"
      },
      "source": [
        "# porównaj czas dzialania wynikowych modeli TFLite\n",
        "# TODO wyniki przedstaw na wykresie słupkowym (jeden slupek dla model-base, a drugi dla model-quant)\n",
        "plt.bar(['model-base', 'model-quant'], (test_model_accuracy(\"model-base.tflite\")[1], test_model_accuracy(\"model-quant.tflite\")[1]))"
      ],
      "execution_count": 23,
      "outputs": [
        {
          "output_type": "execute_result",
          "data": {
            "text/plain": [
              "<BarContainer object of 2 artists>"
            ]
          },
          "metadata": {},
          "execution_count": 23
        },
        {
          "output_type": "display_data",
          "data": {
            "text/plain": [
              "<Figure size 640x480 with 1 Axes>"
            ],
            "image/png": "[encoded data removed]"
          },
          "metadata": {}
        }
      ]
    },
    {
      "cell_type": "markdown",
      "metadata": {
        "id": "5fCWZL6YuiDh"
      },
      "source": [
        " # Wnioski\n",
        "\n",
        "**TODO** przedstaw wnioski z przeprowadzonych eksperymentów\n",
        "**TODO** dlaczego czasy działania modeli są różne?\n",
        "\n",
        "Obie wersje modelu, bazowa i kwantyzowana, wykazują porównywalną dokładność. Model kwantyzowany jest znacznie mniejszy w porównaniu do modelu bazowego. Model bazowy działa nieco szybciej niż model kwantyzowany. Wynika to przede wszystkim z kształtu warstw i architektury wykorzystanego procesora."
      ]
    }
  ]
}
